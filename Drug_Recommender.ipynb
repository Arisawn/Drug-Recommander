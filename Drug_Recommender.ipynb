{
 "cells": [
  {
   "cell_type": "code",
   "execution_count": 1,
   "metadata": {},
   "outputs": [],
   "source": [
    "import pandas as pd\n",
    "from sklearn.feature_extraction.text import TfidfVectorizer\n",
    "from sklearn.metrics.pairwise import cosine_similarity\n",
    "import nltk\n",
    "from nltk.corpus import stopwords\n",
    "from nltk.tokenize import word_tokenize"
   ]
  },
  {
   "cell_type": "markdown",
   "metadata": {},
   "source": [
    "Load Data"
   ]
  },
  {
   "cell_type": "code",
   "execution_count": 2,
   "metadata": {},
   "outputs": [],
   "source": [
    "data = pd.read_csv('drugs_side_effects_drugs_com.csv')"
   ]
  },
  {
   "cell_type": "code",
   "execution_count": 3,
   "metadata": {},
   "outputs": [],
   "source": [
    "data.dropna(subset=['medical_condition', 'drug_name'], inplace=True)"
   ]
  },
  {
   "cell_type": "code",
   "execution_count": 6,
   "metadata": {},
   "outputs": [
    {
     "name": "stderr",
     "output_type": "stream",
     "text": [
      "[nltk_data] Downloading package stopwords to\n",
      "[nltk_data]     C:\\Users\\Arisawn\\AppData\\Roaming\\nltk_data...\n",
      "[nltk_data]   Package stopwords is already up-to-date!\n",
      "[nltk_data] Downloading package punkt to\n",
      "[nltk_data]     C:\\Users\\Arisawn\\AppData\\Roaming\\nltk_data...\n",
      "[nltk_data]   Package punkt is already up-to-date!\n"
     ]
    }
   ],
   "source": [
    "nltk.download('stopwords')\n",
    "nltk.download('punkt')\n",
    "\n",
    "stop_words = set(stopwords.words('english'))\n",
    "\n",
    "def preprocess_text(text):\n",
    "    if isinstance(text, str):\n",
    "        tokens = word_tokenize(text.lower())\n",
    "        filtered_tokens = [token for token in tokens if token.isalpha() and token not in stop_words]\n",
    "        preprocessed_text = ' '.join(filtered_tokens)\n",
    "        return preprocessed_text\n",
    "    else:\n",
    "        return '' "
   ]
  },
  {
   "cell_type": "code",
   "execution_count": 7,
   "metadata": {},
   "outputs": [],
   "source": [
    "data['processed_medical_condition'] = data['medical_condition'].apply(preprocess_text)\n",
    "data['processed_side_effects'] = data['side_effects'].apply(preprocess_text)"
   ]
  },
  {
   "cell_type": "code",
   "execution_count": 8,
   "metadata": {},
   "outputs": [],
   "source": [
    "tfidf_vectorizer = TfidfVectorizer()\n",
    "tfidf_matrix_medical = tfidf_vectorizer.fit_transform(data['processed_medical_condition'])\n",
    "tfidf_matrix_side_effects = tfidf_vectorizer.fit_transform(data['processed_side_effects'])"
   ]
  },
  {
   "cell_type": "code",
   "execution_count": 9,
   "metadata": {},
   "outputs": [],
   "source": [
    "cosine_sim_medical = cosine_similarity(tfidf_matrix_medical, tfidf_matrix_medical)\n",
    "cosine_sim_side_effects = cosine_similarity(tfidf_matrix_side_effects, tfidf_matrix_side_effects)"
   ]
  },
  {
   "cell_type": "code",
   "execution_count": 12,
   "metadata": {},
   "outputs": [],
   "source": [
    "def recommend_drugs(condition, num_recommendations=5):\n",
    "    condition_lower = condition.lower()\n",
    "    condition_indices = data[data['medical_condition'].str.lower() == condition_lower].index\n",
    "    \n",
    "    if len(condition_indices) == 0:\n",
    "        print(f\"No drugs found for medical condition: {condition}\")\n",
    "        return []\n",
    "    \n",
    "    condition_index = condition_indices[0]  # Use the first matching index\n",
    "    \n",
    "    # Get cosine similarity scores for medical conditions\n",
    "    medical_sim_scores = list(enumerate(cosine_sim_medical[condition_index]))\n",
    "    # Get cosine similarity scores for side effects\n",
    "    side_effects_sim_scores = list(enumerate(cosine_sim_side_effects[condition_index]))\n",
    "    \n",
    "    # Combine similarity scores\n",
    "    combined_sim_scores = [(i, 0.5*med_sim_score + 0.5*side_effects_sim_scores[i][1]) for i, med_sim_score in medical_sim_scores]\n",
    "    # Sort drugs by combined similarity scores\n",
    "    combined_sim_scores = sorted(combined_sim_scores, key=lambda x: x[1], reverse=True)\n",
    "    \n",
    "    # Get top recommended drugs\n",
    "    recommended_drugs = [(data.iloc[i]['drug_name'], combined_sim_score) for i, combined_sim_score in combined_sim_scores[:num_recommendations]]\n",
    "    \n",
    "    return recommended_drugs"
   ]
  },
  {
   "cell_type": "code",
   "execution_count": 13,
   "metadata": {},
   "outputs": [
    {
     "name": "stdout",
     "output_type": "stream",
     "text": [
      "No drugs found for medical condition: headache\n",
      "Recommended drugs for headache:\n"
     ]
    }
   ],
   "source": [
    "recommended_drugs = recommend_drugs('headache')\n",
    "print(\"Recommended drugs for headache:\")\n",
    "for drug, similarity in recommended_drugs:\n",
    "    print(f\"- {drug} (Similarity: {similarity:.2f})\")"
   ]
  }
 ],
 "metadata": {
  "kernelspec": {
   "display_name": "Python 3",
   "language": "python",
   "name": "python3"
  },
  "language_info": {
   "codemirror_mode": {
    "name": "ipython",
    "version": 3
   },
   "file_extension": ".py",
   "mimetype": "text/x-python",
   "name": "python",
   "nbconvert_exporter": "python",
   "pygments_lexer": "ipython3",
   "version": "3.12.2"
  }
 },
 "nbformat": 4,
 "nbformat_minor": 2
}
